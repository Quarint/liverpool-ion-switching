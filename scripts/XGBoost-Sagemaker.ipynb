{
 "cells": [
  {
   "cell_type": "code",
   "execution_count": 17,
   "metadata": {},
   "outputs": [],
   "source": [
    "import boto3\n",
    "import pandas as pd\n",
    "import numpy as np\n",
    "from sagemaker import get_execution_role\n",
    "import sagemaker\n",
    "import sys\n",
    "import os"
   ]
  },
  {
   "cell_type": "code",
   "execution_count": 20,
   "metadata": {},
   "outputs": [
    {
     "name": "stdout",
     "output_type": "stream",
     "text": [
      "Requirement already satisfied: xgboost in /home/ec2-user/anaconda3/envs/python3/lib/python3.6/site-packages (1.0.2)\n",
      "Requirement already satisfied: numpy in /home/ec2-user/anaconda3/envs/python3/lib/python3.6/site-packages (from xgboost) (1.14.3)\n",
      "Requirement already satisfied: scipy in /home/ec2-user/anaconda3/envs/python3/lib/python3.6/site-packages (from xgboost) (1.1.0)\n",
      "\u001b[33mYou are using pip version 10.0.1, however version 20.1 is available.\n",
      "You should consider upgrading via the 'pip install --upgrade pip' command.\u001b[0m\n"
     ]
    }
   ],
   "source": [
    "!pip install xgboost"
   ]
  },
  {
   "cell_type": "code",
   "execution_count": 21,
   "metadata": {},
   "outputs": [
    {
     "name": "stderr",
     "output_type": "stream",
     "text": [
      "/home/ec2-user/anaconda3/envs/python3/lib/python3.6/site-packages/distributed/config.py:63: YAMLLoadWarning: calling yaml.load() without Loader=... is deprecated, as the default Loader is unsafe. Please read https://msg.pyyaml.org/load for full details.\n",
      "  config.update(yaml.load(text) or {})\n"
     ]
    }
   ],
   "source": [
    "import data_manipulation as dm\n",
    "import xgboost as xgb"
   ]
  },
  {
   "cell_type": "markdown",
   "metadata": {},
   "source": [
    "## Setting up session"
   ]
  },
  {
   "cell_type": "code",
   "execution_count": 19,
   "metadata": {},
   "outputs": [
    {
     "name": "stdout",
     "output_type": "stream",
     "text": [
      "Using bucket lvp-ion-switching\n"
     ]
    }
   ],
   "source": [
    "sm_boto3 = boto3.client('sagemaker')\n",
    "sess = sagemaker.Session()\n",
    "\n",
    "region = sess.boto_session.region_name\n",
    "\n",
    "role = sagemaker.get_execution_role()\n",
    "\n",
    "bucket = 'lvp-ion-switching'\n",
    "prefix = 'xgb-lvp-ion-switching'\n",
    "\n",
    "print('Using bucket ' + bucket)"
   ]
  },
  {
   "cell_type": "markdown",
   "metadata": {},
   "source": [
    "## Loading Data"
   ]
  },
  {
   "cell_type": "code",
   "execution_count": 4,
   "metadata": {},
   "outputs": [],
   "source": [
    "train_name = \"train_clean.csv\"\n",
    "test_name = \"test_clean.csv\"\n",
    "\n",
    "train_path = f's3://{bucket}/{train_name}'\n",
    "test_path = f's3://{bucket}/{test_name}'\n",
    "\n",
    "all_data = pd.read_csv(train_path)\n",
    "# test_data = pd.read_csv(test_path)"
   ]
  },
  {
   "cell_type": "code",
   "execution_count": 5,
   "metadata": {},
   "outputs": [],
   "source": [
    "# dm.plot_signal_and_channels(all_data)"
   ]
  },
  {
   "cell_type": "code",
   "execution_count": 6,
   "metadata": {},
   "outputs": [],
   "source": [
    "# dm.plot_signal(test_data)"
   ]
  },
  {
   "cell_type": "markdown",
   "metadata": {},
   "source": [
    "## Feature engineering\n",
    "Here we are adding the shifted version of the signal variable as feature, with the shift ranging from -9 to +9. As demonstrated in the RandomForest notebook, this results in a much better prediction."
   ]
  },
  {
   "cell_type": "code",
   "execution_count": 7,
   "metadata": {},
   "outputs": [],
   "source": [
    "dm.load_shifted_values([all_data], max_shift=10)"
   ]
  },
  {
   "cell_type": "code",
   "execution_count": 8,
   "metadata": {},
   "outputs": [
    {
     "data": {
      "text/html": [
       "<div>\n",
       "<style scoped>\n",
       "    .dataframe tbody tr th:only-of-type {\n",
       "        vertical-align: middle;\n",
       "    }\n",
       "\n",
       "    .dataframe tbody tr th {\n",
       "        vertical-align: top;\n",
       "    }\n",
       "\n",
       "    .dataframe thead th {\n",
       "        text-align: right;\n",
       "    }\n",
       "</style>\n",
       "<table border=\"1\" class=\"dataframe\">\n",
       "  <thead>\n",
       "    <tr style=\"text-align: right;\">\n",
       "      <th></th>\n",
       "      <th>time</th>\n",
       "      <th>signal</th>\n",
       "      <th>open_channels</th>\n",
       "      <th>previous_signal_1</th>\n",
       "      <th>next_signal_1</th>\n",
       "      <th>previous_signal_2</th>\n",
       "      <th>next_signal_2</th>\n",
       "      <th>previous_signal_3</th>\n",
       "      <th>next_signal_3</th>\n",
       "      <th>previous_signal_4</th>\n",
       "      <th>...</th>\n",
       "      <th>previous_signal_5</th>\n",
       "      <th>next_signal_5</th>\n",
       "      <th>previous_signal_6</th>\n",
       "      <th>next_signal_6</th>\n",
       "      <th>previous_signal_7</th>\n",
       "      <th>next_signal_7</th>\n",
       "      <th>previous_signal_8</th>\n",
       "      <th>next_signal_8</th>\n",
       "      <th>previous_signal_9</th>\n",
       "      <th>next_signal_9</th>\n",
       "    </tr>\n",
       "  </thead>\n",
       "  <tbody>\n",
       "    <tr>\n",
       "      <th>0</th>\n",
       "      <td>0.0001</td>\n",
       "      <td>-2.7600</td>\n",
       "      <td>0</td>\n",
       "      <td>-2.7600</td>\n",
       "      <td>-2.8557</td>\n",
       "      <td>-2.7600</td>\n",
       "      <td>-2.4074</td>\n",
       "      <td>-2.7600</td>\n",
       "      <td>-3.1404</td>\n",
       "      <td>-2.76</td>\n",
       "      <td>...</td>\n",
       "      <td>-2.76</td>\n",
       "      <td>-2.6418</td>\n",
       "      <td>-2.76</td>\n",
       "      <td>-2.6993</td>\n",
       "      <td>-2.76</td>\n",
       "      <td>-2.5935</td>\n",
       "      <td>-2.76</td>\n",
       "      <td>-2.6682</td>\n",
       "      <td>-2.76</td>\n",
       "      <td>-2.7586</td>\n",
       "    </tr>\n",
       "    <tr>\n",
       "      <th>1</th>\n",
       "      <td>0.0002</td>\n",
       "      <td>-2.8557</td>\n",
       "      <td>0</td>\n",
       "      <td>-2.7600</td>\n",
       "      <td>-2.4074</td>\n",
       "      <td>-2.7600</td>\n",
       "      <td>-3.1404</td>\n",
       "      <td>-2.7600</td>\n",
       "      <td>-3.1525</td>\n",
       "      <td>-2.76</td>\n",
       "      <td>...</td>\n",
       "      <td>-2.76</td>\n",
       "      <td>-2.6993</td>\n",
       "      <td>-2.76</td>\n",
       "      <td>-2.5935</td>\n",
       "      <td>-2.76</td>\n",
       "      <td>-2.6682</td>\n",
       "      <td>-2.76</td>\n",
       "      <td>-2.7586</td>\n",
       "      <td>-2.76</td>\n",
       "      <td>-3.1136</td>\n",
       "    </tr>\n",
       "    <tr>\n",
       "      <th>2</th>\n",
       "      <td>0.0003</td>\n",
       "      <td>-2.4074</td>\n",
       "      <td>0</td>\n",
       "      <td>-2.8557</td>\n",
       "      <td>-3.1404</td>\n",
       "      <td>-2.7600</td>\n",
       "      <td>-3.1525</td>\n",
       "      <td>-2.7600</td>\n",
       "      <td>-2.6418</td>\n",
       "      <td>-2.76</td>\n",
       "      <td>...</td>\n",
       "      <td>-2.76</td>\n",
       "      <td>-2.5935</td>\n",
       "      <td>-2.76</td>\n",
       "      <td>-2.6682</td>\n",
       "      <td>-2.76</td>\n",
       "      <td>-2.7586</td>\n",
       "      <td>-2.76</td>\n",
       "      <td>-3.1136</td>\n",
       "      <td>-2.76</td>\n",
       "      <td>-2.6221</td>\n",
       "    </tr>\n",
       "    <tr>\n",
       "      <th>3</th>\n",
       "      <td>0.0004</td>\n",
       "      <td>-3.1404</td>\n",
       "      <td>0</td>\n",
       "      <td>-2.4074</td>\n",
       "      <td>-3.1525</td>\n",
       "      <td>-2.8557</td>\n",
       "      <td>-2.6418</td>\n",
       "      <td>-2.7600</td>\n",
       "      <td>-2.6993</td>\n",
       "      <td>-2.76</td>\n",
       "      <td>...</td>\n",
       "      <td>-2.76</td>\n",
       "      <td>-2.6682</td>\n",
       "      <td>-2.76</td>\n",
       "      <td>-2.7586</td>\n",
       "      <td>-2.76</td>\n",
       "      <td>-3.1136</td>\n",
       "      <td>-2.76</td>\n",
       "      <td>-2.6221</td>\n",
       "      <td>-2.76</td>\n",
       "      <td>-2.7316</td>\n",
       "    </tr>\n",
       "    <tr>\n",
       "      <th>4</th>\n",
       "      <td>0.0005</td>\n",
       "      <td>-3.1525</td>\n",
       "      <td>0</td>\n",
       "      <td>-3.1404</td>\n",
       "      <td>-2.6418</td>\n",
       "      <td>-2.4074</td>\n",
       "      <td>-2.6993</td>\n",
       "      <td>-2.8557</td>\n",
       "      <td>-2.5935</td>\n",
       "      <td>-2.76</td>\n",
       "      <td>...</td>\n",
       "      <td>-2.76</td>\n",
       "      <td>-2.7586</td>\n",
       "      <td>-2.76</td>\n",
       "      <td>-3.1136</td>\n",
       "      <td>-2.76</td>\n",
       "      <td>-2.6221</td>\n",
       "      <td>-2.76</td>\n",
       "      <td>-2.7316</td>\n",
       "      <td>-2.76</td>\n",
       "      <td>-2.9028</td>\n",
       "    </tr>\n",
       "  </tbody>\n",
       "</table>\n",
       "<p>5 rows × 21 columns</p>\n",
       "</div>"
      ],
      "text/plain": [
       "     time  signal  open_channels  previous_signal_1  next_signal_1  \\\n",
       "0  0.0001 -2.7600              0            -2.7600        -2.8557   \n",
       "1  0.0002 -2.8557              0            -2.7600        -2.4074   \n",
       "2  0.0003 -2.4074              0            -2.8557        -3.1404   \n",
       "3  0.0004 -3.1404              0            -2.4074        -3.1525   \n",
       "4  0.0005 -3.1525              0            -3.1404        -2.6418   \n",
       "\n",
       "   previous_signal_2  next_signal_2  previous_signal_3  next_signal_3  \\\n",
       "0            -2.7600        -2.4074            -2.7600        -3.1404   \n",
       "1            -2.7600        -3.1404            -2.7600        -3.1525   \n",
       "2            -2.7600        -3.1525            -2.7600        -2.6418   \n",
       "3            -2.8557        -2.6418            -2.7600        -2.6993   \n",
       "4            -2.4074        -2.6993            -2.8557        -2.5935   \n",
       "\n",
       "   previous_signal_4  ...  previous_signal_5  next_signal_5  \\\n",
       "0              -2.76  ...              -2.76        -2.6418   \n",
       "1              -2.76  ...              -2.76        -2.6993   \n",
       "2              -2.76  ...              -2.76        -2.5935   \n",
       "3              -2.76  ...              -2.76        -2.6682   \n",
       "4              -2.76  ...              -2.76        -2.7586   \n",
       "\n",
       "   previous_signal_6  next_signal_6  previous_signal_7  next_signal_7  \\\n",
       "0              -2.76        -2.6993              -2.76        -2.5935   \n",
       "1              -2.76        -2.5935              -2.76        -2.6682   \n",
       "2              -2.76        -2.6682              -2.76        -2.7586   \n",
       "3              -2.76        -2.7586              -2.76        -3.1136   \n",
       "4              -2.76        -3.1136              -2.76        -2.6221   \n",
       "\n",
       "   previous_signal_8  next_signal_8  previous_signal_9  next_signal_9  \n",
       "0              -2.76        -2.6682              -2.76        -2.7586  \n",
       "1              -2.76        -2.7586              -2.76        -3.1136  \n",
       "2              -2.76        -3.1136              -2.76        -2.6221  \n",
       "3              -2.76        -2.6221              -2.76        -2.7316  \n",
       "4              -2.76        -2.7316              -2.76        -2.9028  \n",
       "\n",
       "[5 rows x 21 columns]"
      ]
     },
     "execution_count": 8,
     "metadata": {},
     "output_type": "execute_result"
    }
   ],
   "source": [
    "all_data.head()"
   ]
  },
  {
   "cell_type": "code",
   "execution_count": 9,
   "metadata": {},
   "outputs": [],
   "source": [
    "# test_data.head()"
   ]
  },
  {
   "cell_type": "markdown",
   "metadata": {},
   "source": [
    "### Index feature for training data\n",
    "This new feature indicates the number of the chunk of 50k samples to which each sample belongs. Since the original data was generated by chunks which were then concatenated, this is helpful for prediction as demonstrated in the RandomForest notebook."
   ]
  },
  {
   "cell_type": "code",
   "execution_count": 10,
   "metadata": {},
   "outputs": [],
   "source": [
    "def get_index_mod_int(col, d):\n",
    "    return pd.Series(range(len(col))).floordiv(d)\n",
    "\n",
    "index_feat = get_index_mod_int(all_data['time'], 50000)\n",
    "all_data['index_feat'] = index_feat\n",
    "all_data = all_data.drop(columns=['time'])"
   ]
  },
  {
   "cell_type": "markdown",
   "metadata": {},
   "source": [
    "### Index feature for test data\n",
    "For the corresponding feature in the test data, we compute for each 50k chunk of the test data, which 50k chunk of the train data is the closest (by computing the distance induced by the canonical dot product)"
   ]
  },
  {
   "cell_type": "code",
   "execution_count": 11,
   "metadata": {},
   "outputs": [
    {
     "data": {
      "text/plain": [
       "Index(['signal', 'open_channels', 'previous_signal_1', 'next_signal_1',\n",
       "       'previous_signal_2', 'next_signal_2', 'previous_signal_3',\n",
       "       'next_signal_3', 'previous_signal_4', 'next_signal_4',\n",
       "       'previous_signal_5', 'next_signal_5', 'previous_signal_6',\n",
       "       'next_signal_6', 'previous_signal_7', 'next_signal_7',\n",
       "       'previous_signal_8', 'next_signal_8', 'previous_signal_9',\n",
       "       'next_signal_9', 'index_feat'],\n",
       "      dtype='object')"
      ]
     },
     "execution_count": 11,
     "metadata": {},
     "output_type": "execute_result"
    }
   ],
   "source": [
    "all_data.columns"
   ]
  },
  {
   "cell_type": "code",
   "execution_count": 12,
   "metadata": {},
   "outputs": [
    {
     "name": "stdout",
     "output_type": "stream",
     "text": [
      "840000104\n"
     ]
    }
   ],
   "source": [
    "print(sys.getsizeof(all_data))"
   ]
  },
  {
   "cell_type": "markdown",
   "metadata": {},
   "source": [
    "## Format data\n",
    "To use the built-in algorithms parameter tuning of sagemaker, the data must:\n",
    "* have no missing value\n",
    "* be numeric (including categorical variables)\n",
    "* be scaled (not always necessary, like here for gradient boosting algorithms)\n",
    "* first column should be the target variable\n",
    "* CSV File should have no header"
   ]
  },
  {
   "cell_type": "code",
   "execution_count": 13,
   "metadata": {},
   "outputs": [],
   "source": [
    "previous_columns = [x for x in all_data.columns if x != 'open_channels']"
   ]
  },
  {
   "cell_type": "code",
   "execution_count": 14,
   "metadata": {},
   "outputs": [
    {
     "data": {
      "text/html": [
       "<div>\n",
       "<style scoped>\n",
       "    .dataframe tbody tr th:only-of-type {\n",
       "        vertical-align: middle;\n",
       "    }\n",
       "\n",
       "    .dataframe tbody tr th {\n",
       "        vertical-align: top;\n",
       "    }\n",
       "\n",
       "    .dataframe thead th {\n",
       "        text-align: right;\n",
       "    }\n",
       "</style>\n",
       "<table border=\"1\" class=\"dataframe\">\n",
       "  <thead>\n",
       "    <tr style=\"text-align: right;\">\n",
       "      <th></th>\n",
       "      <th>open_channels</th>\n",
       "      <th>signal</th>\n",
       "      <th>previous_signal_1</th>\n",
       "      <th>next_signal_1</th>\n",
       "      <th>previous_signal_2</th>\n",
       "      <th>next_signal_2</th>\n",
       "      <th>previous_signal_3</th>\n",
       "      <th>next_signal_3</th>\n",
       "      <th>previous_signal_4</th>\n",
       "      <th>next_signal_4</th>\n",
       "      <th>...</th>\n",
       "      <th>next_signal_5</th>\n",
       "      <th>previous_signal_6</th>\n",
       "      <th>next_signal_6</th>\n",
       "      <th>previous_signal_7</th>\n",
       "      <th>next_signal_7</th>\n",
       "      <th>previous_signal_8</th>\n",
       "      <th>next_signal_8</th>\n",
       "      <th>previous_signal_9</th>\n",
       "      <th>next_signal_9</th>\n",
       "      <th>index_feat</th>\n",
       "    </tr>\n",
       "  </thead>\n",
       "  <tbody>\n",
       "    <tr>\n",
       "      <th>0</th>\n",
       "      <td>0</td>\n",
       "      <td>-2.7600</td>\n",
       "      <td>-2.7600</td>\n",
       "      <td>-2.8557</td>\n",
       "      <td>-2.7600</td>\n",
       "      <td>-2.4074</td>\n",
       "      <td>-2.7600</td>\n",
       "      <td>-3.1404</td>\n",
       "      <td>-2.76</td>\n",
       "      <td>-3.1525</td>\n",
       "      <td>...</td>\n",
       "      <td>-2.6418</td>\n",
       "      <td>-2.76</td>\n",
       "      <td>-2.6993</td>\n",
       "      <td>-2.76</td>\n",
       "      <td>-2.5935</td>\n",
       "      <td>-2.76</td>\n",
       "      <td>-2.6682</td>\n",
       "      <td>-2.76</td>\n",
       "      <td>-2.7586</td>\n",
       "      <td>0</td>\n",
       "    </tr>\n",
       "    <tr>\n",
       "      <th>1</th>\n",
       "      <td>0</td>\n",
       "      <td>-2.8557</td>\n",
       "      <td>-2.7600</td>\n",
       "      <td>-2.4074</td>\n",
       "      <td>-2.7600</td>\n",
       "      <td>-3.1404</td>\n",
       "      <td>-2.7600</td>\n",
       "      <td>-3.1525</td>\n",
       "      <td>-2.76</td>\n",
       "      <td>-2.6418</td>\n",
       "      <td>...</td>\n",
       "      <td>-2.6993</td>\n",
       "      <td>-2.76</td>\n",
       "      <td>-2.5935</td>\n",
       "      <td>-2.76</td>\n",
       "      <td>-2.6682</td>\n",
       "      <td>-2.76</td>\n",
       "      <td>-2.7586</td>\n",
       "      <td>-2.76</td>\n",
       "      <td>-3.1136</td>\n",
       "      <td>0</td>\n",
       "    </tr>\n",
       "    <tr>\n",
       "      <th>2</th>\n",
       "      <td>0</td>\n",
       "      <td>-2.4074</td>\n",
       "      <td>-2.8557</td>\n",
       "      <td>-3.1404</td>\n",
       "      <td>-2.7600</td>\n",
       "      <td>-3.1525</td>\n",
       "      <td>-2.7600</td>\n",
       "      <td>-2.6418</td>\n",
       "      <td>-2.76</td>\n",
       "      <td>-2.6993</td>\n",
       "      <td>...</td>\n",
       "      <td>-2.5935</td>\n",
       "      <td>-2.76</td>\n",
       "      <td>-2.6682</td>\n",
       "      <td>-2.76</td>\n",
       "      <td>-2.7586</td>\n",
       "      <td>-2.76</td>\n",
       "      <td>-3.1136</td>\n",
       "      <td>-2.76</td>\n",
       "      <td>-2.6221</td>\n",
       "      <td>0</td>\n",
       "    </tr>\n",
       "    <tr>\n",
       "      <th>3</th>\n",
       "      <td>0</td>\n",
       "      <td>-3.1404</td>\n",
       "      <td>-2.4074</td>\n",
       "      <td>-3.1525</td>\n",
       "      <td>-2.8557</td>\n",
       "      <td>-2.6418</td>\n",
       "      <td>-2.7600</td>\n",
       "      <td>-2.6993</td>\n",
       "      <td>-2.76</td>\n",
       "      <td>-2.5935</td>\n",
       "      <td>...</td>\n",
       "      <td>-2.6682</td>\n",
       "      <td>-2.76</td>\n",
       "      <td>-2.7586</td>\n",
       "      <td>-2.76</td>\n",
       "      <td>-3.1136</td>\n",
       "      <td>-2.76</td>\n",
       "      <td>-2.6221</td>\n",
       "      <td>-2.76</td>\n",
       "      <td>-2.7316</td>\n",
       "      <td>0</td>\n",
       "    </tr>\n",
       "    <tr>\n",
       "      <th>4</th>\n",
       "      <td>0</td>\n",
       "      <td>-3.1525</td>\n",
       "      <td>-3.1404</td>\n",
       "      <td>-2.6418</td>\n",
       "      <td>-2.4074</td>\n",
       "      <td>-2.6993</td>\n",
       "      <td>-2.8557</td>\n",
       "      <td>-2.5935</td>\n",
       "      <td>-2.76</td>\n",
       "      <td>-2.6682</td>\n",
       "      <td>...</td>\n",
       "      <td>-2.7586</td>\n",
       "      <td>-2.76</td>\n",
       "      <td>-3.1136</td>\n",
       "      <td>-2.76</td>\n",
       "      <td>-2.6221</td>\n",
       "      <td>-2.76</td>\n",
       "      <td>-2.7316</td>\n",
       "      <td>-2.76</td>\n",
       "      <td>-2.9028</td>\n",
       "      <td>0</td>\n",
       "    </tr>\n",
       "  </tbody>\n",
       "</table>\n",
       "<p>5 rows × 21 columns</p>\n",
       "</div>"
      ],
      "text/plain": [
       "   open_channels  signal  previous_signal_1  next_signal_1  previous_signal_2  \\\n",
       "0              0 -2.7600            -2.7600        -2.8557            -2.7600   \n",
       "1              0 -2.8557            -2.7600        -2.4074            -2.7600   \n",
       "2              0 -2.4074            -2.8557        -3.1404            -2.7600   \n",
       "3              0 -3.1404            -2.4074        -3.1525            -2.8557   \n",
       "4              0 -3.1525            -3.1404        -2.6418            -2.4074   \n",
       "\n",
       "   next_signal_2  previous_signal_3  next_signal_3  previous_signal_4  \\\n",
       "0        -2.4074            -2.7600        -3.1404              -2.76   \n",
       "1        -3.1404            -2.7600        -3.1525              -2.76   \n",
       "2        -3.1525            -2.7600        -2.6418              -2.76   \n",
       "3        -2.6418            -2.7600        -2.6993              -2.76   \n",
       "4        -2.6993            -2.8557        -2.5935              -2.76   \n",
       "\n",
       "   next_signal_4  ...  next_signal_5  previous_signal_6  next_signal_6  \\\n",
       "0        -3.1525  ...        -2.6418              -2.76        -2.6993   \n",
       "1        -2.6418  ...        -2.6993              -2.76        -2.5935   \n",
       "2        -2.6993  ...        -2.5935              -2.76        -2.6682   \n",
       "3        -2.5935  ...        -2.6682              -2.76        -2.7586   \n",
       "4        -2.6682  ...        -2.7586              -2.76        -3.1136   \n",
       "\n",
       "   previous_signal_7  next_signal_7  previous_signal_8  next_signal_8  \\\n",
       "0              -2.76        -2.5935              -2.76        -2.6682   \n",
       "1              -2.76        -2.6682              -2.76        -2.7586   \n",
       "2              -2.76        -2.7586              -2.76        -3.1136   \n",
       "3              -2.76        -3.1136              -2.76        -2.6221   \n",
       "4              -2.76        -2.6221              -2.76        -2.7316   \n",
       "\n",
       "   previous_signal_9  next_signal_9  index_feat  \n",
       "0              -2.76        -2.7586           0  \n",
       "1              -2.76        -3.1136           0  \n",
       "2              -2.76        -2.6221           0  \n",
       "3              -2.76        -2.7316           0  \n",
       "4              -2.76        -2.9028           0  \n",
       "\n",
       "[5 rows x 21 columns]"
      ]
     },
     "execution_count": 14,
     "metadata": {},
     "output_type": "execute_result"
    }
   ],
   "source": [
    "all_data = all_data[['open_channels'] + previous_columns]\n",
    "all_data.head()"
   ]
  },
  {
   "cell_type": "code",
   "execution_count": 15,
   "metadata": {},
   "outputs": [],
   "source": [
    "random_permutation = np.random.choice(len(all_data), len(all_data), replace=False)\n",
    "split_idx = int(0.7 * len(all_data))\n",
    "train_data = all_data.iloc[random_permutation[:split_idx], :]\n",
    "val_data = all_data.iloc[random_permutation[split_idx:], :]"
   ]
  },
  {
   "cell_type": "code",
   "execution_count": 18,
   "metadata": {},
   "outputs": [],
   "source": [
    "train_data.to_csv('train.csv', index=False, header=False)\n",
    "val_data.to_csv('validation.csv', index=False, header=False)\n",
    "boto3.Session().resource('s3').Bucket(bucket).Object(os.path.join(prefix, 'train/train.csv')).upload_file('train.csv')\n",
    "boto3.Session().resource('s3').Bucket(bucket).Object(os.path.join(prefix, 'validation/validation.csv')).upload_file('validation.csv')\n",
    "s3_input_train = sagemaker.s3_input(s3_data='s3://{}/{}/train'.format(bucket, prefix), content_type='csv')\n",
    "s3_input_validation = sagemaker.s3_input(s3_data='s3://{}/{}/validation/'.format(bucket, prefix), content_type='csv')"
   ]
  },
  {
   "cell_type": "markdown",
   "metadata": {},
   "source": [
    "# Setup hyperparameter tuning"
   ]
  },
  {
   "cell_type": "code",
   "execution_count": 24,
   "metadata": {},
   "outputs": [
    {
     "name": "stdout",
     "output_type": "stream",
     "text": [
      "Overwriting xgb_model.py\n"
     ]
    }
   ],
   "source": [
    "%%writefile xgb_model.py\n",
    "\n",
    "import argparse\n",
    "import json\n",
    "import logging\n",
    "import os\n",
    "import pandas as pd\n",
    "import pickle as pkl\n",
    "\n",
    "from sagemaker_containers import entry_point\n",
    "from sagemaker_xgboost_container.data_utils import get_dmatrix\n",
    "from sagemaker_xgboost_container import distributed\n",
    "\n",
    "import xgboost as xgb\n",
    "\n",
    "def _xgb_train(params, dtrain, evals, num_boost_round, model_dir, is_master):\n",
    "    \"\"\"Run xgb train on arguments given with rabit initialized.\n",
    "\n",
    "    This is our rabit execution function.\n",
    "\n",
    "    :param args_dict: Argument dictionary used to run xgb.train().\n",
    "    :param is_master: True if current node is master host in distributed training, or is running single node training job. Note that rabit_run will include this argument.\n",
    "    \"\"\"\n",
    "    booster = xgb.train(params=params, dtrain=dtrain, evals=evals, num_boost_round=num_boost_round)\n",
    "\n",
    "    if is_master:\n",
    "        model_location = model_dir + '/xgboost-model'\n",
    "        pkl.dump(booster, open(model_location, 'wb'))\n",
    "        logging.info(\"Stored trained model at {}\".format(model_location))\n",
    "\n",
    "\n",
    "if __name__ == '__main__':\n",
    "    parser = argparse.ArgumentParser()\n",
    "\n",
    "    # Hyperparameters are described here. In this simple example we are just including one hyperparameter.\n",
    "    parser.add_argument('--max_depth', type=int,)\n",
    "    parser.add_argument('--eta', type=float)\n",
    "    parser.add_argument('--gamma', type=int)\n",
    "    parser.add_argument('--min_child_weight', type=int)\n",
    "    parser.add_argument('--subsample', type=float)\n",
    "    parser.add_argument('--verbose', type=int)\n",
    "    parser.add_argument('--objective', type=str)\n",
    "    parser.add_argument('--num_round', type=int)\n",
    "\n",
    "    # Sagemaker specific arguments. Defaults are set in the environment variables.\n",
    "    parser.add_argument('--output_data_dir', type=str, default=os.environ['SM_OUTPUT_DATA_DIR'])\n",
    "    parser.add_argument('--model_dir', type=str, default=os.environ['SM_MODEL_DIR'])\n",
    "    parser.add_argument('--train', type=str, default=os.environ['SM_CHANNEL_TRAIN'])\n",
    "    parser.add_argument('--validation', type=str, default=os.environ['SM_CHANNEL_VALIDATION'])\n",
    "    parser.add_argument('--sm_hosts', type=str, default=os.environ['SM_HOSTS'])\n",
    "    parser.add_argument('--sm_current_host', type=str, default=os.environ['SM_CURRENT_HOST'])\n",
    "\n",
    "    args, _ = parser.parse_known_args()\n",
    "\n",
    "    # Get SageMaker host information from runtime environment variables\n",
    "    sm_hosts = json.loads(os.environ['SM_HOSTS'])\n",
    "    sm_current_host = args.sm_current_host\n",
    "\n",
    "    dtrain = get_dmatrix(args.train, 'csv')\n",
    "    dval = get_dmatrix(args.validation, 'csv')\n",
    "    watchlist = [(dtrain, 'train'), (dval, 'validation')] if dval is not None else [(dtrain, 'train')]\n",
    "\n",
    "    train_hp = {\n",
    "        'max_depth': args.max_depth,\n",
    "        'eta': args.eta,\n",
    "        'gamma': args.gamma,\n",
    "        'min_child_weight': args.min_child_weight,\n",
    "        'subsample': args.subsample,\n",
    "        'verbose': args.verbose,\n",
    "        'objective': args.objective}\n",
    "\n",
    "    xgb_train_args = dict(\n",
    "        params=train_hp,\n",
    "        dtrain=dtrain,\n",
    "        evals=watchlist,\n",
    "        num_boost_round=args.num_round,\n",
    "        model_dir=args.model_dir)\n",
    "\n",
    "    if len(sm_hosts) > 1:\n",
    "        # Wait until all hosts are able to find each other\n",
    "        entry_point._wait_hostname_resolution()\n",
    "\n",
    "        # Execute training function after initializing rabit.\n",
    "        distributed.rabit_run(\n",
    "            exec_fun=_xgb_train,\n",
    "            args=xgb_train_args,\n",
    "            include_in_training=(dtrain is not None),\n",
    "            hosts=sm_hosts,\n",
    "            current_host=sm_current_host,\n",
    "            update_rabit_args=True\n",
    "        )\n",
    "    else:\n",
    "        # If single node training, call training method directly.\n",
    "        if dtrain:\n",
    "            xgb_train_args['is_master'] = True\n",
    "            _xgb_train(**xgb_train_args)\n",
    "        else:\n",
    "            raise ValueError(\"Training channel must have data to train model.\")\n",
    "\n",
    "\n",
    "def model_fn(model_dir):\n",
    "    \"\"\"Deserialized and return fitted model.\n",
    "\n",
    "    Note that this should have the same name as the serialized model in the _xgb_train method\n",
    "    \"\"\"\n",
    "    model_file = 'xgboost-model'\n",
    "    booster = pkl.load(open(os.path.join(model_dir, model_file), 'rb'))\n",
    "    return booster"
   ]
  },
  {
   "cell_type": "code",
   "execution_count": 27,
   "metadata": {},
   "outputs": [
    {
     "name": "stdout",
     "output_type": "stream",
     "text": [
      "11\n"
     ]
    }
   ],
   "source": [
    "nb_classes = len(all_data['open_channels'].value_counts())\n",
    "print(nb_classes)"
   ]
  },
  {
   "cell_type": "code",
   "execution_count": 23,
   "metadata": {},
   "outputs": [],
   "source": [
    "hyperparams = {\n",
    "        \"max_depth\":\"5\",\n",
    "        \"eta\":\"0.2\",\n",
    "        \"gamma\":\"4\",\n",
    "        \"min_child_weight\":\"6\",\n",
    "        \"subsample\":\"0.7\",\n",
    "        \"verbose\":\"1\",\n",
    "        \"objective\":\"multi:softmax\",\n",
    "        \"num_class\": str(nb_classes)\n",
    "        \"num_round\":\"100\"}\n",
    "\n",
    "instance_type = \"ml.m5.xlarge\"\n",
    "output_path = 's3://{}/{}/{}/output'.format(bucket, prefix, 'liv-ion-xgb')\n",
    "content_type = \"csv\""
   ]
  },
  {
   "cell_type": "code",
   "execution_count": 28,
   "metadata": {},
   "outputs": [],
   "source": [
    "# Open Source distributed script mode\n",
    "from sagemaker.session import s3_input, Session\n",
    "from sagemaker.xgboost.estimator import XGBoost\n",
    "\n",
    "boto_session = boto3.Session(region_name=region)\n",
    "session = Session(boto_session=boto_session)\n",
    "script_path = 'xgb_model.py'\n",
    "\n",
    "xgb_script_mode_estimator = XGBoost(\n",
    "    entry_point=script_path,\n",
    "    framework_version='0.90-1', # Note: framework_version is mandatory\n",
    "    hyperparameters=hyperparams,\n",
    "    role=role,\n",
    "    train_instance_count=2, \n",
    "    train_instance_type=instance_type,\n",
    "    output_path=output_path)\n",
    "\n",
    "train_input = s3_input(\"s3://{}/{}/{}/\".format(bucket, prefix, 'train'), content_type=content_type)\n",
    "validation_input = s3_input(\"s3://{}/{}/{}/\".format(bucket, prefix, 'validation'), content_type=content_type)"
   ]
  },
  {
   "cell_type": "code",
   "execution_count": null,
   "metadata": {},
   "outputs": [
    {
     "name": "stdout",
     "output_type": "stream",
     "text": [
      "2020-05-10 21:35:03 Starting - Starting the training job...\n",
      "2020-05-10 21:35:05 Starting - Launching requested ML instances...\n",
      "2020-05-10 21:36:03 Starting - Preparing the instances for training."
     ]
    }
   ],
   "source": [
    "xgb_script_mode_estimator.fit({'train': train_input, 'validation': validation_input})"
   ]
  },
  {
   "cell_type": "code",
   "execution_count": null,
   "metadata": {},
   "outputs": [],
   "source": []
  }
 ],
 "metadata": {
  "kernelspec": {
   "display_name": "conda_python3",
   "language": "python",
   "name": "conda_python3"
  },
  "language_info": {
   "codemirror_mode": {
    "name": "ipython",
    "version": 3
   },
   "file_extension": ".py",
   "mimetype": "text/x-python",
   "name": "python",
   "nbconvert_exporter": "python",
   "pygments_lexer": "ipython3",
   "version": "3.6.5"
  }
 },
 "nbformat": 4,
 "nbformat_minor": 4
}
